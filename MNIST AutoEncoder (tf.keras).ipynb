{
 "cells": [
  {
   "cell_type": "code",
   "execution_count": 1,
   "metadata": {},
   "outputs": [],
   "source": [
    "import tensorflow as tf\n",
    "import numpy as np\n",
    "import matplotlib.pyplot as plt"
   ]
  },
  {
   "cell_type": "code",
   "execution_count": 2,
   "metadata": {},
   "outputs": [
    {
     "name": "stdout",
     "output_type": "stream",
     "text": [
      "(10000, 28, 28)\n"
     ]
    }
   ],
   "source": [
    "mnist = tf.keras.datasets.mnist\n",
    "(x_train, y_train),(x_test, y_test) = mnist.load_data() #Source(x) 28x28 matrix, target(y) numbers 0 to 9 (not needed)\n",
    "x_train=x_train/255 # All values between 0 and 1\n",
    "x_test=x_test/255 # All values between 0 and 1\n",
    "\n",
    "print(x_test.shape)"
   ]
  },
  {
   "cell_type": "code",
   "execution_count": 3,
   "metadata": {},
   "outputs": [],
   "source": [
    "# Building the encoder\n",
    "def encoder(x):\n",
    "   \n",
    "    model = tf.keras.Sequential()\n",
    "    model.add(tf.keras.layers.Flatten(input_shape=(28,28)))\n",
    "    model.add(tf.keras.layers.BatchNormalization())\n",
    "    model.add(tf.keras.layers.Dense(512,activation=\"relu\" ))\n",
    "    model.add(tf.keras.layers.Dense(256,activation=\"relu\" ))\n",
    "    model.add(tf.keras.layers.Dense(128,activation=\"relu\" ))\n",
    "    model.add(tf.keras.layers.BatchNormalization())\n",
    "    model.add(tf.keras.layers.Dropout(0.2))\n",
    "    print(model.summary())\n",
    "  \n",
    "    return model(x)"
   ]
  },
  {
   "cell_type": "code",
   "execution_count": 4,
   "metadata": {},
   "outputs": [],
   "source": [
    "# Building the decoder\n",
    "def decoder():\n",
    "   \n",
    "    model = tf.keras.Sequential()\n",
    "    model.add(tf.keras.layers.BatchNormalization(input_shape=(128,)))\n",
    "    model.add(tf.keras.layers.Dense(256,activation=\"relu\" ))\n",
    "    model.add(tf.keras.layers.Dense(512,activation=\"relu\" ))\n",
    "    model.add(tf.keras.layers.Dense(1024,activation=\"relu\" ))\n",
    "    model.add(tf.keras.layers.Dense(784,activation=\"sigmoid\"))\n",
    "    model.add(tf.keras.layers.Reshape((28,28)))\n",
    "    model.add(tf.keras.layers.BatchNormalization())\n",
    "    model.add(tf.keras.layers.Dropout(0.2))\n",
    "    print(model.summary())\n",
    "    \n",
    "    return model"
   ]
  },
  {
   "cell_type": "code",
   "execution_count": 5,
   "metadata": {},
   "outputs": [
    {
     "name": "stdout",
     "output_type": "stream",
     "text": [
      "_________________________________________________________________\n",
      "Layer (type)                 Output Shape              Param #   \n",
      "=================================================================\n",
      "flatten (Flatten)            (None, 784)               0         \n",
      "_________________________________________________________________\n",
      "batch_normalization (BatchNo (None, 784)               3136      \n",
      "_________________________________________________________________\n",
      "dense (Dense)                (None, 512)               401920    \n",
      "_________________________________________________________________\n",
      "dense_1 (Dense)              (None, 256)               131328    \n",
      "_________________________________________________________________\n",
      "dense_2 (Dense)              (None, 128)               32896     \n",
      "_________________________________________________________________\n",
      "batch_normalization_1 (Batch (None, 128)               512       \n",
      "_________________________________________________________________\n",
      "dropout (Dropout)            (None, 128)               0         \n",
      "=================================================================\n",
      "Total params: 569,792\n",
      "Trainable params: 567,968\n",
      "Non-trainable params: 1,824\n",
      "_________________________________________________________________\n",
      "None\n",
      "_________________________________________________________________\n",
      "Layer (type)                 Output Shape              Param #   \n",
      "=================================================================\n",
      "batch_normalization_2 (Batch (None, 128)               512       \n",
      "_________________________________________________________________\n",
      "dense_3 (Dense)              (None, 256)               33024     \n",
      "_________________________________________________________________\n",
      "dense_4 (Dense)              (None, 512)               131584    \n",
      "_________________________________________________________________\n",
      "dense_5 (Dense)              (None, 1024)              525312    \n",
      "_________________________________________________________________\n",
      "dense_6 (Dense)              (None, 784)               803600    \n",
      "_________________________________________________________________\n",
      "reshape (Reshape)            (None, 28, 28)            0         \n",
      "_________________________________________________________________\n",
      "batch_normalization_3 (Batch (None, 28, 28)            112       \n",
      "_________________________________________________________________\n",
      "dropout_1 (Dropout)          (None, 28, 28)            0         \n",
      "=================================================================\n",
      "Total params: 1,494,144\n",
      "Trainable params: 1,493,832\n",
      "Non-trainable params: 312\n",
      "_________________________________________________________________\n",
      "None\n"
     ]
    }
   ],
   "source": [
    "learning_rate=0.01\n",
    "\n",
    "X = tf.placeholder(\"float\", [None,28,28])\n",
    "# Construct model\n",
    "encoder_op= encoder(X)\n",
    "dec=decoder()\n",
    "decoder_op = dec(encoder_op)\n",
    "\n",
    "# Prediction\n",
    "y_pred = decoder_op\n",
    "# Targets (Labels) are the input data.\n",
    "y_true = X\n",
    "\n",
    "# Define loss and optimizer, minimize the squared error\n",
    "loss = tf.reduce_mean(tf.pow(y_true - y_pred, 2))\n",
    "optimizer = tf.train.AdamOptimizer(learning_rate).minimize(loss)\n",
    "\n",
    "# Initialize the variables (i.e. assign their default value)\n",
    "init = tf.global_variables_initializer()\n",
    "\n",
    "saver = tf.train.Saver()"
   ]
  },
  {
   "cell_type": "code",
   "execution_count": 6,
   "metadata": {},
   "outputs": [
    {
     "name": "stdout",
     "output_type": "stream",
     "text": [
      "Step 1: Minibatch Loss: 0.104059\n",
      "Step 1000: Minibatch Loss: 0.020205\n",
      "Step 2000: Minibatch Loss: 0.015503\n",
      "Step 3000: Minibatch Loss: 0.013243\n",
      "Step 4000: Minibatch Loss: 0.012219\n",
      "Step 5000: Minibatch Loss: 0.010811\n",
      "Step 6000: Minibatch Loss: 0.011032\n",
      "Step 7000: Minibatch Loss: 0.010659\n",
      "Step 8000: Minibatch Loss: 0.010017\n",
      "Step 9000: Minibatch Loss: 0.010945\n",
      "Step 10000: Minibatch Loss: 0.009596\n",
      "Step 11000: Minibatch Loss: 0.009497\n",
      "Step 12000: Minibatch Loss: 0.009803\n",
      "Step 13000: Minibatch Loss: 0.009135\n",
      "Step 14000: Minibatch Loss: 0.008658\n",
      "Model saved in path: /tmp/model.ckpt\n"
     ]
    }
   ],
   "source": [
    "display_step = 1000\n",
    "num_steps = 15000\n",
    "\n",
    "# Start Training\n",
    "# Start a new TF session\n",
    "with tf.Session() as sess:\n",
    "\n",
    "    # Run the initializer\n",
    "    sess.run(init)\n",
    "    #Split the data in batches\n",
    "    batches=np.split(x_train,250)\n",
    "    \n",
    "    # Training\n",
    "    for i in range(0, num_steps):\n",
    "        \n",
    "        # Get the next batch \n",
    "        batch_x = batches[i%250]\n",
    "        # Run optimization op (backprop) and cost op (to get loss value)\n",
    "        _, l = sess.run([optimizer, loss], feed_dict={X: batch_x})\n",
    "        # Display logs per step\n",
    "        if i!=0 and i % display_step == 0 or i == 1:\n",
    "            print('Step %i: Minibatch Loss: %f' % (i, l))\n",
    "\n",
    "    save_path = saver.save(sess, \"/tmp/model.ckpt\")\n",
    "    print(\"Model saved in path: %s\" % save_path)"
   ]
  },
  {
   "cell_type": "code",
   "execution_count": 7,
   "metadata": {},
   "outputs": [
    {
     "name": "stdout",
     "output_type": "stream",
     "text": [
      "INFO:tensorflow:Restoring parameters from /tmp/model.ckpt\n",
      "Encoded/Compressed input: [ -0.8396146 , -7.443173e-25 ,... 0.06340617 ] - Compression: 83.67 %\n",
      "Encoded/Compressed input: [ -0.8396146 , -7.443173e-25 ,... 0.06340617 ] - Compression: 83.67 %\n",
      "Encoded/Compressed input: [ -0.8396146 , -7.443173e-25 ,... 0.06340617 ] - Compression: 83.67 %\n",
      "Encoded/Compressed input: [ 3.3468626 , -7.443173e-25 ,... 0.06340617 ] - Compression: 83.67 %\n",
      "Encoded/Compressed input: [ 4.1500053 , -7.443173e-25 ,... 0.06340617 ] - Compression: 83.67 %\n",
      "Encoded/Compressed input: [ -0.8396146 , -7.443173e-25 ,... 0.06340617 ] - Compression: 83.67 %\n",
      "Encoded/Compressed input: [ 4.1011333 , -7.443173e-25 ,... 0.06340617 ] - Compression: 83.67 %\n",
      "Encoded/Compressed input: [ 1.8277118 , -7.443173e-25 ,... 0.06340617 ] - Compression: 83.67 %\n",
      "Encoded/Compressed input: [ 4.894499 , -7.443173e-25 ,... 0.06340617 ] - Compression: 83.67 %\n",
      "Encoded/Compressed input: [ 1.6121507 , -7.443173e-25 ,... 0.06340617 ] - Compression: 83.67 %\n",
      "Encoded/Compressed input: [ 1.693536 , -7.443173e-25 ,... 0.06340617 ] - Compression: 83.67 %\n",
      "Encoded/Compressed input: [ 1.8148134 , -7.443173e-25 ,... 0.06340617 ] - Compression: 83.67 %\n",
      "Encoded/Compressed input: [ 1.3235142 , -7.443173e-25 ,... 0.06340617 ] - Compression: 83.67 %\n",
      "Encoded/Compressed input: [ 1.6142726 , -7.443173e-25 ,... 0.06340617 ] - Compression: 83.67 %\n",
      "Encoded/Compressed input: [ -0.8396146 , -7.443173e-25 ,... 0.06340617 ] - Compression: 83.67 %\n",
      "Encoded/Compressed input: [ -0.8396146 , -7.443173e-25 ,... 0.06340617 ] - Compression: 83.67 %\n",
      "Original Images\n"
     ]
    },
    {
     "data": {
      "image/png": "[encoded data removed]",
      "text/plain": [
       "<Figure size 288x288 with 1 Axes>"
      ]
     },
     "metadata": {
      "needs_background": "light"
     },
     "output_type": "display_data"
    },
    {
     "name": "stdout",
     "output_type": "stream",
     "text": [
      "Reconstructed Images\n"
     ]
    },
    {
     "data": {
      "image/png": "[encoded data removed]",
      "text/plain": [
       "<Figure size 288x288 with 1 Axes>"
      ]
     },
     "metadata": {
      "needs_background": "light"
     },
     "output_type": "display_data"
    }
   ],
   "source": [
    "with tf.Session() as sess:\n",
    "\n",
    "    # Run the initializer\n",
    "    saver.restore(sess, \"/tmp/model.ckpt\")\n",
    "    \n",
    "    \n",
    "    n = 4\n",
    "    canvas_orig = np.empty((28 * n, 28 * n))\n",
    "    canvas_recon = np.empty((28 * n, 28 * n))\n",
    "    for i in range(n):\n",
    "        # MNIST test set\n",
    "        batch_xx = x_test[n*i:n*(i+1)]\n",
    "        # Encode the digit image\n",
    "        batch_x = sess.run(encoder_op, feed_dict={X: batch_xx})\n",
    "    \n",
    "        # Display Enconded/Compressed input\n",
    "        for j in range(n):\n",
    "            print(\"Encoded/Compressed input: [\",batch_x[j][0],\",\", batch_x[j][1],\n",
    "                  \",...\",batch_x[j][len(batch_x)-1],\"]\", \n",
    "                  \"- Compression:\", round(100-(len(batch_x[j])*100/784),2),\"%\")\n",
    "        \n",
    "        # Numpy to Tensor\n",
    "        batch_x = tf.convert_to_tensor(batch_x, dtype=tf.float32)\n",
    "\n",
    "        # Decode the digit image\n",
    "        d = dec(batch_x)\n",
    "        g = sess.run(d)\n",
    "        \n",
    "        # Display original images\n",
    "        for j in range(n):\n",
    "            # Draw the original digits\n",
    "            canvas_orig[i * 28:(i + 1) * 28, j * 28:(j + 1) * 28] = \\\n",
    "                batch_xx[j].reshape([28, 28])\n",
    "        # Display reconstructed images\n",
    "        for j in range(n):\n",
    "            # Draw the reconstructed digits\n",
    "            canvas_recon[i * 28:(i + 1) * 28, j * 28:(j + 1) * 28] = \\\n",
    "                g[j].reshape([28, 28])\n",
    "\n",
    "    print(\"Original Images\")\n",
    "    plt.figure(figsize=(n, n))\n",
    "    plt.imshow(canvas_orig, origin=\"upper\", cmap=\"gray\")\n",
    "    plt.show()\n",
    "\n",
    "    print(\"Reconstructed Images\")\n",
    "    plt.figure(figsize=(n, n))\n",
    "    plt.imshow(canvas_recon, origin=\"upper\", cmap=\"gray\")\n",
    "plt.show()"
   ]
  },
  {
   "cell_type": "code",
   "execution_count": null,
   "metadata": {},
   "outputs": [],
   "source": []
  }
 ],
 "metadata": {
  "kernelspec": {
   "display_name": "Python 3",
   "language": "python",
   "name": "python3"
  },
  "language_info": {
   "codemirror_mode": {
    "name": "ipython",
    "version": 3
   },
   "file_extension": ".py",
   "mimetype": "text/x-python",
   "name": "python",
   "nbconvert_exporter": "python",
   "pygments_lexer": "ipython3",
   "version": "3.6.8"
  }
 },
 "nbformat": 4,
 "nbformat_minor": 2
}
